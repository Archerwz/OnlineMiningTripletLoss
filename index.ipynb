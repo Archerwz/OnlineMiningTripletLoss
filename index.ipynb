{
 "cells": [
  {
   "cell_type": "code",
   "execution_count": null,
   "metadata": {},
   "outputs": [],
   "source": [
    "#hide\n",
    "from online_triplet_loss.losses import *"
   ]
  },
  {
   "cell_type": "markdown",
   "metadata": {},
   "source": [
    "# online_triplet_loss\n",
    "\n",
    "> PyTorch conversion of the excellent post on the [same topic in Tensorflow](https://omoindrot.github.io/triplet-loss). Simply an implementation of a triple loss with online mining of candidate triplets used in semi-supervised learning."
   ]
  },
  {
   "cell_type": "markdown",
   "metadata": {},
   "source": [
    "## Install"
   ]
  },
  {
   "cell_type": "markdown",
   "metadata": {},
   "source": [
    "`pip install online_triplet_loss`\n",
    "\n",
    "Then import with:\n",
    "`from online_triplet_loss.losses import *`"
   ]
  },
  {
   "cell_type": "markdown",
   "metadata": {},
   "source": [
    "## How to use\n",
    "\n",
    "In these examples I use a really large margin, since the embedding space is so small. A more realistic margins seems to be between `0.1 and 2.0`"
   ]
  },
  {
   "cell_type": "code",
   "execution_count": null,
   "metadata": {},
   "outputs": [],
   "source": [
    "from torch import nn\n",
    "import torch\n",
    "\n",
    "model = nn.Embedding(10, 10)"
   ]
  },
  {
   "cell_type": "code",
   "execution_count": null,
   "metadata": {},
   "outputs": [
    {
     "name": "stdout",
     "output_type": "stream",
     "text": "Labels: tensor([8, 2, 5, 4, 5])\nEmbeddings: tensor([[-0.8817, -1.0785, -0.3578, -0.0837,  0.2544, -0.8937,  1.4421,  0.2820,\n          0.2439,  0.4424],\n        [ 0.8939, -1.9193,  0.2663, -0.1702, -0.7696,  1.3117,  1.0242, -1.0406,\n          0.2643,  0.2774],\n        [ 0.9621, -3.1509,  0.3539,  1.3979, -0.9992,  0.4069,  0.7399,  0.2953,\n          0.1055,  1.6277],\n        [-0.6303, -0.6868, -0.3235,  1.2629,  0.1715, -0.8287, -0.0056,  0.0165,\n         -0.6142,  0.9858],\n        [ 0.9621, -3.1509,  0.3539,  1.3979, -0.9992,  0.4069,  0.7399,  0.2953,\n          0.1055,  1.6277]], grad_fn=<EmbeddingBackward>)\nLoss: tensor(97.3276, grad_fn=<MeanBackward0>)\n"
    }
   ],
   "source": [
    "#from online_triplet_loss.losses import *\n",
    "labels = torch.randint(high=10, size=(5,)) # our five labels\n",
    "\n",
    "embeddings = model(labels)\n",
    "print('Labels:', labels)\n",
    "print('Embeddings:', embeddings)\n",
    "loss = batch_hard_triplet_loss(labels, embeddings, margin=100)\n",
    "print('Loss:', loss)\n",
    "loss.backward()"
   ]
  },
  {
   "cell_type": "code",
   "execution_count": null,
   "metadata": {},
   "outputs": [
    {
     "name": "stdout",
     "output_type": "stream",
     "text": "Labels: tensor([8, 2, 5, 4, 5])\nEmbeddings: tensor([[-0.8817, -1.0785, -0.3578, -0.0837,  0.2544, -0.8937,  1.4421,  0.2820,\n          0.2439,  0.4424],\n        [ 0.8939, -1.9193,  0.2663, -0.1702, -0.7696,  1.3117,  1.0242, -1.0406,\n          0.2643,  0.2774],\n        [ 0.9621, -3.1509,  0.3539,  1.3979, -0.9992,  0.4069,  0.7399,  0.2953,\n          0.1055,  1.6277],\n        [-0.6303, -0.6868, -0.3235,  1.2629,  0.1715, -0.8287, -0.0056,  0.0165,\n         -0.6142,  0.9858],\n        [ 0.9621, -3.1509,  0.3539,  1.3979, -0.9992,  0.4069,  0.7399,  0.2953,\n          0.1055,  1.6277]], grad_fn=<EmbeddingBackward>)\ntensor(96.4817, grad_fn=<DivBackward0>) tensor(1.)\nLoss: tensor(96.4817, grad_fn=<DivBackward0>)\n"
    }
   ],
   "source": [
    "#from online_triplet_loss.losses import *\n",
    "embeddings = model(labels)\n",
    "print('Labels:', labels)\n",
    "print('Embeddings:', embeddings)\n",
    "loss, fraction_pos = batch_all_triplet_loss(labels, embeddings, squared=False, margin=100)\n",
    "print('Loss:', loss)\n",
    "loss.backward()"
   ]
  },
  {
   "cell_type": "markdown",
   "execution_count": null,
   "metadata": {},
   "outputs": [],
   "source": [
    "## References\n",
    "* [Triplet Loss and Online Triplet Mining in Tensorflow](https://github.com/omoindrot/tensorflow-triplet-loss)\n",
    "* [Facenet paper](https://arxiv.org/abs/1503.03832)\n",
    "* [adambielski's nice implementation](https://github.com/adambielski/siamese-triplet) (unfortunately context switches between CPU / GPU)"
   ]
  },
  {
   "cell_type": "code",
   "execution_count": null,
   "metadata": {},
   "outputs": [],
   "source": []
  }
 ],
 "metadata": {
  "kernelspec": {
   "display_name": "Python 3",
   "language": "python",
   "name": "python3"
  }
 },
 "nbformat": 4,
 "nbformat_minor": 2
}

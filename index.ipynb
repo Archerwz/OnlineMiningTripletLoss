{
 "cells": [
  {
   "cell_type": "code",
   "execution_count": null,
   "metadata": {},
   "outputs": [],
   "source": [
    "#hide\n",
    "from online_triplet_loss.losses import *"
   ]
  },
  {
   "cell_type": "markdown",
   "metadata": {},
   "source": [
    "# online_triplet_loss\n",
    "\n",
    "> PyTorch conversion of the excellent post on the [same topic in Tensorflow](https://omoindrot.github.io/triplet-loss). Simply an implementation of a triple loss with online mining of candidate triplets used in semi-supervised learning."
   ]
  },
  {
   "cell_type": "markdown",
   "metadata": {},
   "source": [
    "## Install"
   ]
  },
  {
   "cell_type": "markdown",
   "metadata": {},
   "source": [
    "`pip install online_triplet_loss`\n",
    "\n",
    "Then import with:\n",
    "`from online_triplet_loss.losses import *`\n",
    "\n",
    "PS: Requires Pytorch version 1.1.0 or above to use."
   ]
  },
  {
   "cell_type": "markdown",
   "metadata": {},
   "source": [
    "## How to use\n",
    "\n",
    "In these examples I use a really large margin, since the embedding space is so small. A more realistic margins seems to be between `0.1 and 2.0`"
   ]
  },
  {
   "cell_type": "code",
   "execution_count": null,
   "metadata": {},
   "outputs": [],
   "source": [
    "from torch import nn\n",
    "import torch\n",
    "\n",
    "model = nn.Embedding(10, 10)"
   ]
  },
  {
   "cell_type": "code",
   "execution_count": null,
   "metadata": {},
   "outputs": [
    {
     "name": "stdout",
     "output_type": "stream",
     "text": "Labels: tensor([6, 1, 3, 6, 6])\nEmbeddings: tensor([[-1.1335,  0.3364, -3.0174, -0.8732, -0.9301,  1.3619,  0.3746,  0.0457,\n          0.0180, -0.4500],\n        [ 1.0757, -0.8420, -0.7630, -0.0746,  1.1545,  0.4017,  0.5587,  1.7947,\n          0.1992, -2.2288],\n        [ 0.2646,  1.2383,  0.1949,  0.5743, -0.8460, -0.9929, -2.0350,  0.2095,\n          0.2129, -0.4855],\n        [-1.1335,  0.3364, -3.0174, -0.8732, -0.9301,  1.3619,  0.3746,  0.0457,\n          0.0180, -0.4500],\n        [-1.1335,  0.3364, -3.0174, -0.8732, -0.9301,  1.3619,  0.3746,  0.0457,\n          0.0180, -0.4500]], grad_fn=<EmbeddingBackward>)\nLoss: tensor(95.1271, grad_fn=<MeanBackward0>)\n"
    }
   ],
   "source": [
    "#from online_triplet_loss.losses import *\n",
    "labels = torch.randint(high=10, size=(5,)) # our five labels\n",
    "\n",
    "embeddings = model(labels)\n",
    "print('Labels:', labels)\n",
    "print('Embeddings:', embeddings)\n",
    "loss = batch_hard_triplet_loss(labels, embeddings, margin=100)\n",
    "print('Loss:', loss)\n",
    "loss.backward()"
   ]
  },
  {
   "cell_type": "code",
   "execution_count": null,
   "metadata": {},
   "outputs": [
    {
     "name": "stdout",
     "output_type": "stream",
     "text": "Labels: tensor([6, 1, 3, 6, 6])\nEmbeddings: tensor([[-1.1335,  0.3364, -3.0174, -0.8732, -0.9301,  1.3619,  0.3746,  0.0457,\n          0.0180, -0.4500],\n        [ 1.0757, -0.8420, -0.7630, -0.0746,  1.1545,  0.4017,  0.5587,  1.7947,\n          0.1992, -2.2288],\n        [ 0.2646,  1.2383,  0.1949,  0.5743, -0.8460, -0.9929, -2.0350,  0.2095,\n          0.2129, -0.4855],\n        [-1.1335,  0.3364, -3.0174, -0.8732, -0.9301,  1.3619,  0.3746,  0.0457,\n          0.0180, -0.4500],\n        [-1.1335,  0.3364, -3.0174, -0.8732, -0.9301,  1.3619,  0.3746,  0.0457,\n          0.0180, -0.4500]], grad_fn=<EmbeddingBackward>)\ntensor(94.9947, grad_fn=<DivBackward0>) tensor(1.)\nLoss: tensor(94.9947, grad_fn=<DivBackward0>)\n"
    }
   ],
   "source": [
    "#from online_triplet_loss.losses import *\n",
    "embeddings = model(labels)\n",
    "print('Labels:', labels)\n",
    "print('Embeddings:', embeddings)\n",
    "loss, fraction_pos = batch_all_triplet_loss(labels, embeddings, squared=False, margin=100)\n",
    "print('Loss:', loss)\n",
    "loss.backward()"
   ]
  },
  {
   "cell_type": "markdown",
   "execution_count": null,
   "metadata": {},
   "outputs": [],
   "source": [
    "## References\n",
    "* [Triplet Loss and Online Triplet Mining in Tensorflow](https://github.com/omoindrot/tensorflow-triplet-loss)\n",
    "* [Facenet paper](https://arxiv.org/abs/1503.03832)\n",
    "* [adambielski's nice implementation](https://github.com/adambielski/siamese-triplet) (unfortunately context switches between CPU / GPU)"
   ]
  },
  {
   "cell_type": "code",
   "execution_count": null,
   "metadata": {},
   "outputs": [],
   "source": []
  }
 ],
 "metadata": {
  "kernelspec": {
   "display_name": "Python 3",
   "language": "python",
   "name": "python3"
  }
 },
 "nbformat": 4,
 "nbformat_minor": 2
}

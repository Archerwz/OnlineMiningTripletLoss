{
 "cells": [
  {
   "cell_type": "code",
   "execution_count": null,
   "metadata": {},
   "outputs": [],
   "source": [
    "#hide\n",
    "from online_triplet_loss.losses import *"
   ]
  },
  {
   "cell_type": "markdown",
   "metadata": {},
   "source": [
    "# online_triplet_loss\n",
    "\n",
    "> PyTorch conversion of the excellent post on the [same topic in Tensorflow](https://omoindrot.github.io/triplet-loss). Simply an implementation of a triple loss with online mining of candidate triplets used in semi-supervised learning."
   ]
  },
  {
   "cell_type": "markdown",
   "metadata": {},
   "source": [
    "## Install"
   ]
  },
  {
   "cell_type": "markdown",
   "metadata": {},
   "source": [
    "`pip install online_triplet_loss`\n",
    "\n",
    "Then import with:\n",
    "`from online_triplet_loss.losses import *`"
   ]
  },
  {
   "cell_type": "markdown",
   "metadata": {},
   "source": [
    "## How to use\n",
    "\n",
    "In these examples I use a really large margin, since the embedding space is so small. A more realistic margins seems to be between `0.1 and 2.0`"
   ]
  },
  {
   "cell_type": "code",
   "execution_count": null,
   "metadata": {},
   "outputs": [],
   "source": [
    "from torch import nn\n",
    "import torch\n",
    "\n",
    "model = nn.Embedding(10, 10)"
   ]
  },
  {
   "cell_type": "code",
   "execution_count": null,
   "metadata": {},
   "outputs": [
    {
     "name": "stdout",
     "output_type": "stream",
     "text": "Labels: tensor([2, 0, 8, 8, 6])\nEmbeddings: tensor([[-2.1302, -1.2041, -0.1863,  0.0326, -1.4517, -1.1717,  0.5536,  0.0911,\n          0.6340,  0.9799],\n        [ 0.3097, -0.9580, -1.3407,  0.9034, -1.6870, -2.3679, -0.1658,  1.6462,\n          0.7228,  1.1883],\n        [-0.4034, -1.0991,  0.2177, -0.4273, -0.7944,  1.0775,  0.9443,  1.3429,\n          0.1356, -0.9966],\n        [-0.4034, -1.0991,  0.2177, -0.4273, -0.7944,  1.0775,  0.9443,  1.3429,\n          0.1356, -0.9966],\n        [ 0.5503, -2.1766,  0.9868,  0.5284,  0.8618,  1.6336, -0.7546, -0.7549,\n          0.1552, -0.5286]], grad_fn=<EmbeddingBackward>)\nLoss: tensor(96.3256, grad_fn=<MeanBackward1>)\n"
    }
   ],
   "source": [
    "#from online_triplet_loss.losses import *\n",
    "labels = torch.randint(high=10, size=(5,)) # our five labels\n",
    "\n",
    "embeddings = model(labels)\n",
    "print('Labels:', labels)\n",
    "print('Embeddings:', embeddings)\n",
    "loss = batch_hard_triplet_loss(labels, embeddings, margin=100)\n",
    "print('Loss:', loss)\n",
    "loss.backward()"
   ]
  },
  {
   "cell_type": "code",
   "execution_count": null,
   "metadata": {},
   "outputs": [
    {
     "name": "stdout",
     "output_type": "stream",
     "text": "Labels: tensor([2, 0, 8, 8, 6])\nEmbeddings: tensor([[-2.1302, -1.2041, -0.1863,  0.0326, -1.4517, -1.1717,  0.5536,  0.0911,\n          0.6340,  0.9799],\n        [ 0.3097, -0.9580, -1.3407,  0.9034, -1.6870, -2.3679, -0.1658,  1.6462,\n          0.7228,  1.1883],\n        [-0.4034, -1.0991,  0.2177, -0.4273, -0.7944,  1.0775,  0.9443,  1.3429,\n          0.1356, -0.9966],\n        [-0.4034, -1.0991,  0.2177, -0.4273, -0.7944,  1.0775,  0.9443,  1.3429,\n          0.1356, -0.9966],\n        [ 0.5503, -2.1766,  0.9868,  0.5284,  0.8618,  1.6336, -0.7546, -0.7549,\n          0.1552, -0.5286]], grad_fn=<EmbeddingBackward>)\ntensor(95.8399, grad_fn=<DivBackward0>) tensor(1.)\nLoss: tensor(95.8399, grad_fn=<DivBackward0>)\n"
    }
   ],
   "source": [
    "#from online_triplet_loss.losses import *\n",
    "embeddings = model(labels)\n",
    "print('Labels:', labels)\n",
    "print('Embeddings:', embeddings)\n",
    "loss, fraction_pos = batch_all_triplet_loss(labels, embeddings, squared=False, margin=100)\n",
    "print('Loss:', loss)\n",
    "loss.backward()"
   ]
  },
  {
   "cell_type": "markdown",
   "execution_count": null,
   "metadata": {},
   "outputs": [],
   "source": [
    "## References\n",
    "* [Triplet Loss and Online Triplet Mining in Tensorflow](https://github.com/omoindrot/tensorflow-triplet-loss)\n",
    "* [Facenet paper](https://arxiv.org/abs/1503.03832)\n",
    "* [adambielski's nice implementation](https://github.com/adambielski/siamese-triplet) (unfortunately context switches between CPU / GPU)"
   ]
  },
  {
   "cell_type": "code",
   "execution_count": null,
   "metadata": {},
   "outputs": [],
   "source": []
  }
 ],
 "metadata": {
  "kernelspec": {
   "display_name": "Python 3",
   "language": "python",
   "name": "python3"
  }
 },
 "nbformat": 4,
 "nbformat_minor": 2
}

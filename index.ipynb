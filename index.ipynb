{
 "cells": [
  {
   "cell_type": "code",
   "execution_count": null,
   "metadata": {},
   "outputs": [],
   "source": [
    "#hide\n",
    "from online_triplet_loss.losses import *"
   ]
  },
  {
   "cell_type": "markdown",
   "metadata": {},
   "source": [
    "# online_triplet_loss\n",
    "\n",
    "> PyTorch conversion of the excellent post on the [same topic in Tensorflow](https://omoindrot.github.io/triplet-loss). Simply an implementation of a triple loss with online mining of candidate triplets used in semi-supervised learning."
   ]
  },
  {
   "cell_type": "markdown",
   "metadata": {},
   "source": [
    "## Install"
   ]
  },
  {
   "cell_type": "markdown",
   "metadata": {},
   "source": [
    "`pip install online_triplet_loss`\n",
    "\n",
    "Then import with:\n",
    "`from online_triplet_loss.losses import *`"
   ]
  },
  {
   "cell_type": "markdown",
   "metadata": {},
   "source": [
    "## How to use\n",
    "\n",
    "In these examples I use a really large margin, since the embedding space is so small. A more realistic margins seems to be between `0.1 and 2.0`"
   ]
  },
  {
   "cell_type": "code",
   "execution_count": null,
   "metadata": {},
   "outputs": [],
   "source": [
    "from torch import nn\n",
    "import torch\n",
    "\n",
    "model = nn.Embedding(10, 10)"
   ]
  },
  {
   "cell_type": "code",
   "execution_count": null,
   "metadata": {},
   "outputs": [
    {
     "name": "stdout",
     "output_type": "stream",
     "text": "Labels: tensor([0, 7, 7, 5, 5])\nEmbeddings: tensor([[ 1.7146, -0.3138,  0.1500, -1.3602,  0.6112,  1.9415, -0.0872, -0.5365,\n         -0.6287, -1.2523],\n        [ 0.3933, -1.9714,  1.7608, -0.4584,  0.9668, -1.4512, -0.2314,  1.8080,\n          0.4513, -0.3509],\n        [ 0.3933, -1.9714,  1.7608, -0.4584,  0.9668, -1.4512, -0.2314,  1.8080,\n          0.4513, -0.3509],\n        [-1.3622, -1.2098, -0.4699,  1.3565,  1.4588,  0.7476,  0.1563,  2.0376,\n          0.7811, -0.0996],\n        [-1.3622, -1.2098, -0.4699,  1.3565,  1.4588,  0.7476,  0.1563,  2.0376,\n          0.7811, -0.0996]], grad_fn=<EmbeddingBackward>)\nLoss: tensor(95.6246, grad_fn=<MeanBackward1>)\n"
    }
   ],
   "source": [
    "#from online_triplet_loss.losses import *\n",
    "labels = torch.randint(high=10, size=(5,)) # our five labels\n",
    "\n",
    "embeddings = model(labels)\n",
    "print('Labels:', labels)\n",
    "print('Embeddings:', embeddings)\n",
    "loss = batch_hard_triplet_loss(labels, embeddings, margin=100)\n",
    "print('Loss:', loss)\n",
    "loss.backward()"
   ]
  },
  {
   "cell_type": "code",
   "execution_count": null,
   "metadata": {},
   "outputs": [
    {
     "name": "stdout",
     "output_type": "stream",
     "text": "Labels: tensor([0, 7, 7, 5, 5])\nEmbeddings: tensor([[ 1.7146, -0.3138,  0.1500, -1.3602,  0.6112,  1.9415, -0.0872, -0.5365,\n         -0.6287, -1.2523],\n        [ 0.3933, -1.9714,  1.7608, -0.4584,  0.9668, -1.4512, -0.2314,  1.8080,\n          0.4513, -0.3509],\n        [ 0.3933, -1.9714,  1.7608, -0.4584,  0.9668, -1.4512, -0.2314,  1.8080,\n          0.4513, -0.3509],\n        [-1.3622, -1.2098, -0.4699,  1.3565,  1.4588,  0.7476,  0.1563,  2.0376,\n          0.7811, -0.0996],\n        [-1.3622, -1.2098, -0.4699,  1.3565,  1.4588,  0.7476,  0.1563,  2.0376,\n          0.7811, -0.0996]], grad_fn=<EmbeddingBackward>)\ntensor(95.4382, grad_fn=<DivBackward0>) tensor(1.)\nLoss: tensor(95.4382, grad_fn=<DivBackward0>)\n"
    }
   ],
   "source": [
    "#from online_triplet_loss.losses import *\n",
    "embeddings = model(labels)\n",
    "print('Labels:', labels)\n",
    "print('Embeddings:', embeddings)\n",
    "loss, fraction_pos = batch_all_triplet_loss(labels, embeddings, squared=False, margin=100)\n",
    "print('Loss:', loss)\n",
    "loss.backward()"
   ]
  },
  {
   "cell_type": "markdown",
   "execution_count": null,
   "metadata": {},
   "outputs": [],
   "source": [
    "## References\n",
    "* [Triplet Loss and Online Triplet Mining in Tensorflow](https://github.com/omoindrot/tensorflow-triplet-loss)\n",
    "* [Facenet paper](https://arxiv.org/abs/1503.03832)\n",
    "* [adambielski's nice implementation](https://github.com/adambielski/siamese-triplet) (unfortunately context switches between CPU / GPU)"
   ]
  },
  {
   "cell_type": "code",
   "execution_count": null,
   "metadata": {},
   "outputs": [],
   "source": []
  }
 ],
 "metadata": {
  "kernelspec": {
   "display_name": "Python 3",
   "language": "python",
   "name": "python3"
  }
 },
 "nbformat": 4,
 "nbformat_minor": 2
}
